{
 "cells": [
  {
   "cell_type": "code",
   "execution_count": 1,
   "metadata": {},
   "outputs": [
    {
     "name": "stdout",
     "output_type": "stream",
     "text": [
      "总通信次数: 18866027\n",
      "最小主机编号: 0\n",
      "最大主机编号: 4294955937\n"
     ]
    }
   ],
   "source": [
    "file=open('equinix-chicago.dirA.20140320-130000.UTC.anon.pcap.flow.txt','r')\n",
    "Data=file.readlines()\n",
    "K=0 #总通信次数\n",
    "MIN_num=2**31 #最小主机编号\n",
    "MAX_num=0 #最大主机编号\n",
    "MAX_times=0 #最多通信次数\n",
    "MAX_a=0 #最多通信对a\n",
    "MAX_b=0 #最多通信对b\n",
    "for i in Data:\n",
    "    j=i.split()\n",
    "    MIN_num=min(int(j[0]),int(j[1]),MIN_num)\n",
    "    MAX_num=max(int(j[0]),int(j[1]),MAX_num)\n",
    "    K=K+1\n",
    "print('总通信次数:',K)\n",
    "print('最小主机编号:',MIN_num)\n",
    "print('最大主机编号:',MAX_num)"
   ]
  },
  {
   "cell_type": "code",
   "execution_count": 4,
   "metadata": {
    "collapsed": true
   },
   "outputs": [],
   "source": [
    "#参数计算\n",
    "import math\n",
    "D=0\n",
    "W=0\n",
    "def get_para(a,b):    \n",
    "    d=math.log((1/b),math.e)\n",
    "    w=K/a\n",
    "    print(\"宽度:\",w)\n",
    "    print(\"深度:\",d)\n",
    "    return (int(w),int(d))"
   ]
  },
  {
   "cell_type": "code",
   "execution_count": 5,
   "metadata": {
    "collapsed": true
   },
   "outputs": [],
   "source": [
    "def hash0(a,b,c):\n",
    "    z=(a*b)%c\n",
    "    return z\n",
    "def hash1(a,b,c):\n",
    "    z=(a+b)%c\n",
    "    return z\n",
    "def hash2(a,b,c):\n",
    "    z=int(a&b)%c\n",
    "    return z\n",
    "def hash3(a,b,c):\n",
    "    z=int(a|b)%c\n",
    "    return z\n",
    "def hash4(a,b,c):\n",
    "    z=int(a^b)%c\n",
    "    return z\n",
    "def hash5(a,b,c):\n",
    "    z=((a+b)**2)%c\n",
    "    return int(z)\n",
    "def hash6(a,b,c):\n",
    "    z=((a*b)**3)%c\n",
    "    return int(z)\n",
    "#统一调度接口\n",
    "def Hash(a,b,c,k):\n",
    "    if(k==0):\n",
    "        z=hash0(a,b,c)\n",
    "    if(k==1):\n",
    "        z=hash1(a,b,c)\n",
    "    if(k==2):\n",
    "        z=hash2(a,b,c)\n",
    "    if(k==3):\n",
    "        z=hash3(a,b,c)\n",
    "    if(k==4):\n",
    "        z=hash4(a,b,c)\n",
    "    if(k==5):\n",
    "        z=hash5(a,b,c)\n",
    "    if(k==6):\n",
    "        z=int(hash6(a,b,c))\n",
    "    return z\n",
    "#构造五种哈希函数"
   ]
  },
  {
   "cell_type": "code",
   "execution_count": 16,
   "metadata": {},
   "outputs": [
    {
     "name": "stdout",
     "output_type": "stream",
     "text": [
      "宽度: 3773205.4\n",
      "深度: 6.907755278982137\n",
      "creat_done\n",
      "[52888, 23675731, 1281048150]\n",
      "[56172, 1381261349, 1654615343]\n",
      "[56650, 1191936803, 1714489407]\n",
      "[57050, 4033332886, 1281048150]\n",
      "[58824, 4196430673, 1281048150]\n",
      "[60681, 3986324625, 1281048150]\n",
      "[61993, 352061493, 1281048150]\n",
      "[79542, 3309037651, 2254759]\n",
      "[83314, 1148279497, 1767542340]\n",
      "[89002, 647067801, 1281048150]\n"
     ]
    }
   ],
   "source": [
    "A=[]#哈希表初始化\n",
    "que=[]#计数队列\n",
    "def precreate(w,d):\n",
    "    a=[]\n",
    "    for j in range(0,d):\n",
    "        temp=[]\n",
    "        for i in range(0,w):\n",
    "            temp.append(0)\n",
    "        a.append(temp)\n",
    "        #print('precreate:',20*(j+1),'%')\n",
    "    #print('precreat_done')\n",
    "    return a\n",
    "for i in range(0,10):\n",
    "    que.append([0,0,0])\n",
    "\n",
    "def take(elem):\n",
    "    return elem[0]\n",
    "#哈希表RealTime级构建\n",
    "def creat(w,d,a):\n",
    "    maxh=0\n",
    "    maxa=0\n",
    "    maxb=0\n",
    "    for i in range(0,len(Data)):\n",
    "        j=Data[i].split()\n",
    "        for k in range(0,d):\n",
    "            t=Hash(int(j[0]),int(j[1]),w,k)\n",
    "            a[k][t]=a[k][t]+1\n",
    "        temp=2**31-1\n",
    "        for k in range(0,d):\n",
    "            t=Hash(int(j[0]),int(j[1]),w,k)\n",
    "            temp=min(temp,a[k][t])\n",
    "        if(temp>que[0][0]):\n",
    "            In=False\n",
    "            for z in range(0,10):\n",
    "                if (((int(j[0])==que[z][1]) and (int(j[1])==que[z][2])) or ((int(j[0])==que[z][1]) and (int(j[1])==que[z][2]))):\n",
    "                    que[z][0]=temp\n",
    "                    In=True\n",
    "                    que.sort(key=take)\n",
    "            if (In==False):\n",
    "                que[0][0]=temp\n",
    "                que[0][1]=int(j[0])\n",
    "                que[0][2]=int(j[1])\n",
    "                que.sort(key=take)\n",
    "    print('creat_done')\n",
    "    for i in range(0,10):\n",
    "        print(que[i])\n",
    "    return a\n",
    "\n",
    "(W,D)=get_para(5,0.001)\n",
    "A=precreate(W,D)\n",
    "A=creat(W,D,A)"
   ]
  },
  {
   "cell_type": "code",
   "execution_count": 17,
   "metadata": {},
   "outputs": [
    {
     "name": "stdout",
     "output_type": "stream",
     "text": [
      "宽度: 18866027.0\n",
      "深度: 6.907755278982137\n",
      "creat_done\n",
      "[52888, 23675731, 1281048150]\n",
      "[56172, 1381261349, 1654615343]\n",
      "[56650, 1191936803, 1714489407]\n",
      "[57050, 4033332886, 1281048150]\n",
      "[58824, 4196430673, 1281048150]\n",
      "[60681, 3986324625, 1281048150]\n",
      "[61993, 352061493, 1281048150]\n",
      "[79542, 3309037651, 2254759]\n",
      "[83314, 1148279497, 1767542340]\n",
      "[89002, 647067801, 1281048150]\n"
     ]
    }
   ],
   "source": [
    "(W,D)=get_para(1,0.001)\n",
    "A=precreate(W,D)\n",
    "A=creat(W,D,A)"
   ]
  },
  {
   "cell_type": "code",
   "execution_count": null,
   "metadata": {
    "collapsed": true
   },
   "outputs": [],
   "source": []
  }
 ],
 "metadata": {
  "kernelspec": {
   "display_name": "Python 3",
   "language": "python",
   "name": "python3"
  },
  "language_info": {
   "codemirror_mode": {
    "name": "ipython",
    "version": 3
   },
   "file_extension": ".py",
   "mimetype": "text/x-python",
   "name": "python",
   "nbconvert_exporter": "python",
   "pygments_lexer": "ipython3",
   "version": "3.6.3"
  }
 },
 "nbformat": 4,
 "nbformat_minor": 2
}
